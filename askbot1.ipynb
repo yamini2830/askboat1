{
 "cells": [
  {
   "cell_type": "code",
   "execution_count": 1,
   "id": "ed3985ae-d062-4216-89eb-70860cf76d3b",
   "metadata": {},
   "outputs": [
    {
     "name": "stdin",
     "output_type": "stream",
     "text": [
      "Hi, welcome to Kamcodemy Institute! 🎓\n",
      "May I know your name?  yashi\n"
     ]
    },
    {
     "name": "stdout",
     "output_type": "stream",
     "text": [
      "Nice to meet you, yashi! 😊\n"
     ]
    },
    {
     "name": "stdin",
     "output_type": "stream",
     "text": [
      "Could you please share your contact number?  830782739\n"
     ]
    },
    {
     "name": "stdout",
     "output_type": "stream",
     "text": [
      "Please enter a valid 10-digit contact number.\n"
     ]
    },
    {
     "name": "stdin",
     "output_type": "stream",
     "text": [
      "Could you please share your contact number?  2789067589\n"
     ]
    },
    {
     "name": "stdout",
     "output_type": "stream",
     "text": [
      "Thank you! We'll use this to send important updates.\n"
     ]
    },
    {
     "name": "stdin",
     "output_type": "stream",
     "text": [
      "Could you share your email ID?  yahi@gmail.com\n"
     ]
    },
    {
     "name": "stdout",
     "output_type": "stream",
     "text": [
      "Thank you! We'll send course details and brochures to this email.\n",
      "\n",
      "Which course are you interested in?\n",
      "1. Data Analytics\n",
      "2. Business Analytics\n",
      "3. Data Science\n",
      "4. Machine Learning\n",
      "5. Automation Testing\n",
      "6. Not sure yet\n"
     ]
    },
    {
     "name": "stdin",
     "output_type": "stream",
     "text": [
      "Enter the number corresponding to your choice:  4\n"
     ]
    },
    {
     "name": "stdout",
     "output_type": "stream",
     "text": [
      "You selected Machine Learning. Let me provide you more details!\n"
     ]
    },
    {
     "name": "stdin",
     "output_type": "stream",
     "text": [
      "Would you like to know about fees, duration, or placement support? (Type 'fees', 'duration', or 'placement'):  duration\n"
     ]
    },
    {
     "name": "stdout",
     "output_type": "stream",
     "text": [
      "Duration: 6 months, with flexible batch timings.\n",
      "\n",
      "Thank you for exploring Kamcodemy Institute! We'll contact you with more details.\n",
      "\n",
      "Collected User Information:\n",
      "    name     contact           email          interest  \\\n",
      "0  yashi  2789067589  yahi@gmail.com  Machine Learning   \n",
      "\n",
      "                                            details  \n",
      "0  Duration: 6 months, with flexible batch timings.  \n"
     ]
    }
   ],
   "source": [
    "import pandas as pd\n",
    "\n",
    "def gather_user_info():\n",
    "    user = {}\n",
    "\n",
    "    \n",
    "    while True:\n",
    "        name = input(\"Hi, welcome to Kamcodemy Institute! 🎓\\nMay I know your name? \").strip()\n",
    "        if name.lower() == 'exit':\n",
    "            print(\"Thank you for visiting Kamcodemy Institute. Have a great day!\")\n",
    "            return pd.DataFrame()  \n",
    "        elif name:\n",
    "            user[\"name\"] = name\n",
    "            print(f\"Nice to meet you, {name}! 😊\")\n",
    "            break\n",
    "        else:\n",
    "            print(\"Please enter a valid name.\")\n",
    "\n",
    "    \n",
    "    while True:\n",
    "        contact = input(\"Could you please share your contact number? \").strip()\n",
    "        if contact.lower() == 'exit':\n",
    "            print(\"Thank you for visiting Kamcodemy Institute. Have a great day!\")\n",
    "            return pd.DataFrame()  \n",
    "\n",
    "        elif contact.isdigit() and len(contact) == 10:\n",
    "            user[\"contact\"] = contact\n",
    "            print(\"Thank you! We'll use this to send important updates.\")\n",
    "            break\n",
    "        else:\n",
    "            print(\"Please enter a valid 10-digit contact number.\")\n",
    "\n",
    "    # Collecting email\n",
    "    while True:\n",
    "        email = input(\"Could you share your email ID? \").strip()\n",
    "        if email.lower() == 'exit':\n",
    "            print(\"Thank you for visiting Kamcodemy Institute. Have a great day!\")\n",
    "            return pd.DataFrame()  # Exit early\n",
    "        elif '@' in email and '.' in email:\n",
    "            user[\"email\"] = email\n",
    "            print(\"Thank you! We'll send course details and brochures to this email.\")\n",
    "            break\n",
    "        else:\n",
    "            print(\"Please enter a valid email address.\")\n",
    "\n",
    "    \n",
    "    while True:\n",
    "        print(\"\\nWhich course are you interested in?\")\n",
    "        print(\"1. Data Analytics\")\n",
    "        print(\"2. Business Analytics\")\n",
    "        print(\"3. Data Science\")\n",
    "        print(\"4. Machine Learning\")\n",
    "        print(\"5. Automation Testing\")\n",
    "        print(\"6. Not sure yet\")\n",
    "        choice = input(\"Enter the number corresponding to your choice: \").strip()\n",
    "        if choice.lower() == 'exit':\n",
    "            print(\"Thank you for visiting Kamcodemy Institute. Have a great day!\")\n",
    "            return pd.DataFrame()  # Exit early\n",
    "        elif choice in ['1', '2', '3', '4', '5', '6']:\n",
    "            courses = {\n",
    "                '1': \"Data Analytics\",\n",
    "                '2': \"Business Analytics\",\n",
    "                '3': \"Data Science\",\n",
    "                '4': \"Machine Learning\",\n",
    "                '5': \"Automation Testing\",\n",
    "                '6': \"General Career Guidance\"\n",
    "            }\n",
    "            user[\"interest\"] = courses[choice]\n",
    "            print(f\"You selected {courses[choice]}. Let me provide you more details!\")\n",
    "            break\n",
    "        else:\n",
    "            print(\"Please choose a valid option.\")\n",
    "\n",
    "    \n",
    "    while True:\n",
    "        detail_request = input(\"Would you like to know about fees, duration, or placement support? (Type 'fees', 'duration', or 'placement'): \").strip().lower()\n",
    "        if detail_request == 'exit':\n",
    "            print(\"Thank you for visiting Kamcodemy Institute. Have a great day!\")\n",
    "            return pd.DataFrame()  # Exit early\n",
    "        elif detail_request == 'fees':\n",
    "            user[\"details\"] = \"Fees: ₹30,000 to ₹60,000 with flexible payment plans.\"\n",
    "            print(user[\"details\"])\n",
    "            break\n",
    "        elif detail_request == 'duration':\n",
    "            user[\"details\"] = \"Duration: 6 months, with flexible batch timings.\"\n",
    "            print(user[\"details\"])\n",
    "            break\n",
    "        elif detail_request == 'placement':\n",
    "            user[\"details\"] = \"Placement: 100% assistance with mock interviews and company connections.\"\n",
    "            print(user[\"details\"])\n",
    "            break\n",
    "        else:\n",
    "            print(\"Please choose 'fees', 'duration', or 'placement'.\")\n",
    "    \n",
    "    \n",
    "    print(\"\\nThank you for exploring Kamcodemy Institute! We'll contact you with more details.\")\n",
    "    return pd.DataFrame(user, index=[0])\n",
    "\n",
    "\n",
    "user_data = gather_user_info()\n",
    "print(\"\\nCollected User Information:\")\n",
    "print(user_data)\n"
   ]
  },
  {
   "cell_type": "code",
   "execution_count": null,
   "id": "6119b21b-b637-4985-b49b-6961115c38b7",
   "metadata": {},
   "outputs": [],
   "source": []
  }
 ],
 "metadata": {
  "kernelspec": {
   "display_name": "Python 3 (ipykernel)",
   "language": "python",
   "name": "python3"
  },
  "language_info": {
   "codemirror_mode": {
    "name": "ipython",
    "version": 3
   },
   "file_extension": ".py",
   "mimetype": "text/x-python",
   "name": "python",
   "nbconvert_exporter": "python",
   "pygments_lexer": "ipython3",
   "version": "3.12.7"
  }
 },
 "nbformat": 4,
 "nbformat_minor": 5
}
